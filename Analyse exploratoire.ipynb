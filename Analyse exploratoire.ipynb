{
 "cells": [
  {
   "cell_type": "code",
   "execution_count": 1,
   "id": "b49c9c10",
   "metadata": {},
   "outputs": [],
   "source": [
    "#import de bibliothèques\n",
    "import pandas as pd\n",
    "import matplotlib.pyplot as plt\n",
    "import numpy as np\n",
    "import datetime as dt\n",
    "import contact_smogon as cs\n",
    "\n",
    "pd.set_option('display.max_rows', None)\n",
    "pd.set_option('display.max_columns', None)"
   ]
  },
  {
   "cell_type": "code",
   "execution_count": null,
   "id": "76b100bc",
   "metadata": {},
   "outputs": [],
   "source": []
  },
  {
   "cell_type": "code",
   "execution_count": 2,
   "id": "50e55ced",
   "metadata": {},
   "outputs": [],
   "source": [
    "test = cs.Contact_Smogon('2020','05','gen7','ou','0')"
   ]
  },
  {
   "cell_type": "code",
   "execution_count": 3,
   "id": "c18e0e88",
   "metadata": {},
   "outputs": [
    {
     "name": "stdout",
     "output_type": "stream",
     "text": [
      "Temporary folder successfully created.\n",
      "['2020-05', 'gen7ou-0.txt']\n",
      "C:\\Users\\monte\\Documents\\Jupyter\\Pokemon\\rawstats_2020-05_gen7ou-0.txt\n",
      "Temporary files have been removed from C:\\Users\\monte\\Documents\\Jupyter\\Pokemon\\temp_folder.\n"
     ]
    }
   ],
   "source": [
    "test.find_stats(['https://www.smogon.com/stats/2020-05/gen7ou-0.txt'])"
   ]
  },
  {
   "cell_type": "code",
   "execution_count": null,
   "id": "0969d980",
   "metadata": {},
   "outputs": [],
   "source": []
  },
  {
   "cell_type": "code",
   "execution_count": null,
   "id": "90294a14",
   "metadata": {},
   "outputs": [],
   "source": []
  },
  {
   "cell_type": "code",
   "execution_count": 4,
   "id": "a27cb34a",
   "metadata": {},
   "outputs": [
    {
     "name": "stdout",
     "output_type": "stream",
     "text": [
      "(885, 7)\n",
      "Index(['rank', 'pokemon', 'usage_pct', 'raw_usage', 'raw_pct', 'real',\n",
      "       'real_pct'],\n",
      "      dtype='object')\n",
      "   rank           pokemon  usage_pct  raw_usage  raw_pct    real  real_pct\n",
      "0     1  Landorus-Therian   22.32909     275549   22.329  234127    25.196\n",
      "1     2      Greninja-Ash   16.57561     204549   16.576  148316    15.961\n",
      "2     3        Ferrothorn   15.34655     189382   15.347  159033    17.115\n",
      "3     4          TapuKoko   12.61179     155634   12.612  121589    13.085\n",
      "4     5           Heatran   11.98944     147954   11.989  120220    12.938\n"
     ]
    }
   ],
   "source": [
    "\n",
    "data = pd.read_csv(\"2020_05_gen7ou_0.csv\")\n",
    "print(data.shape)\n",
    "print(data.columns)\n",
    "print(data.head())"
   ]
  },
  {
   "cell_type": "code",
   "execution_count": 11,
   "id": "ee37a5ad",
   "metadata": {},
   "outputs": [],
   "source": [
    "import requests\n",
    "\n",
    "x=requests.get('https://www.smogon.com/stats/2010-05/gen7ou-0.txt')\n",
    "y=requests.get('https://www.smogon.com/stats/2020-05/gen7ou-0.txt')\n"
   ]
  },
  {
   "cell_type": "code",
   "execution_count": 12,
   "id": "677dc8f5",
   "metadata": {},
   "outputs": [
    {
     "data": {
      "text/plain": [
       "404"
      ]
     },
     "execution_count": 12,
     "metadata": {},
     "output_type": "execute_result"
    }
   ],
   "source": [
    "x.status_code"
   ]
  },
  {
   "cell_type": "code",
   "execution_count": 13,
   "id": "87b1217c",
   "metadata": {},
   "outputs": [
    {
     "data": {
      "text/plain": [
       "200"
      ]
     },
     "execution_count": 13,
     "metadata": {},
     "output_type": "execute_result"
    }
   ],
   "source": [
    "y.status_code"
   ]
  },
  {
   "cell_type": "code",
   "execution_count": null,
   "id": "ec9010a7",
   "metadata": {},
   "outputs": [],
   "source": []
  },
  {
   "cell_type": "code",
   "execution_count": null,
   "id": "71cf58c9",
   "metadata": {},
   "outputs": [],
   "source": [
    "\n",
    "data = pd.read_csv(\"data/pokemon.csv\")\n",
    "print(data.shape)\n",
    "print(data.columns)\n",
    "print(data.head())"
   ]
  },
  {
   "cell_type": "code",
   "execution_count": null,
   "id": "2a89a44f",
   "metadata": {},
   "outputs": [],
   "source": [
    "#On liste les variables d'intérêt\n",
    "variables = ['name', 'type1', 'type2', 'hp', 'attack', 'defense', 'sp_attack', 'sp_defense', 'speed',\n",
    "             'abilities', 'against_bug', 'against_dark', 'against_dragon', 'against_electric',\n",
    "             'against_fairy', 'against_fight', 'against_fire', 'against_flying', 'against_ghost',\n",
    "             'against_grass', 'against_ground', 'against_ice', 'against_normal', 'against_poison',\n",
    "             'against_psychic', 'against_rock', 'against_steel', 'against_water']\n",
    "#On récupère les colonnes concernées\n",
    "data = data[variables]\n",
    "\n",
    "data.head()"
   ]
  },
  {
   "cell_type": "code",
   "execution_count": null,
   "id": "652acf74",
   "metadata": {},
   "outputs": [],
   "source": []
  }
 ],
 "metadata": {
  "kernelspec": {
   "display_name": "Python 3 (ipykernel)",
   "language": "python",
   "name": "python3"
  },
  "language_info": {
   "codemirror_mode": {
    "name": "ipython",
    "version": 3
   },
   "file_extension": ".py",
   "mimetype": "text/x-python",
   "name": "python",
   "nbconvert_exporter": "python",
   "pygments_lexer": "ipython3",
   "version": "3.9.12"
  }
 },
 "nbformat": 4,
 "nbformat_minor": 5
}
